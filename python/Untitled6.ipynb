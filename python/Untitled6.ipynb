{
 "cells": [
  {
   "cell_type": "code",
   "execution_count": 1,
   "metadata": {},
   "outputs": [],
   "source": [
    "def split_delimiter(text):\n",
    "    ECEPTION=['.','?','!']\n",
    "    sentences=[]\n",
    "    sentence=''\n",
    "    for ch in text:\n",
    "        if ch in ECEPTION:\n",
    "            sentences.append(sentence)\n",
    "            sentence=''\n",
    "        else:\n",
    "            sentence+=ch\n",
    "    return sentences"
   ]
  },
  {
   "cell_type": "code",
   "execution_count": 2,
   "metadata": {},
   "outputs": [],
   "source": [
    "def readfile(filename):\n",
    "    file=open('c:/text/'+filename+'.txt','r')\n",
    "    text=file.read()  \n",
    "    return text"
   ]
  },
  {
   "cell_type": "code",
   "execution_count": 3,
   "metadata": {},
   "outputs": [],
   "source": [
    "def changeblank(sentence):\n",
    "    tmp=''\n",
    "    for ch in sentence:\n",
    "         if ch.isalpha():\n",
    "             tmp += ch\n",
    "         else:\n",
    "            tmp+=' '\n",
    "    return tmp"
   ]
  },
  {
   "cell_type": "code",
   "execution_count": 4,
   "metadata": {},
   "outputs": [],
   "source": [
    "def split_word(sentence):\n",
    "    words=[]\n",
    "    word=''\n",
    "    for ch in sentence:\n",
    "        if ch==' ':\n",
    "            words.append(word)\n",
    "            word=''\n",
    "        else:\n",
    "            word+=ch\n",
    "    words.append(word)\n",
    "    return words"
   ]
  },
  {
   "cell_type": "code",
   "execution_count": 5,
   "metadata": {},
   "outputs": [],
   "source": [
    "def compare_word(sentence1,sentence2):\n",
    "    count=0\n",
    "    tmp=''\n",
    "    for word1 in sentence1:\n",
    "        for word2 in sentence2:\n",
    "            if word1 == word2:\n",
    "                tmp+=word1\n",
    "                count = count+1\n",
    "        if count!= 0 and tmp!='':\n",
    "            tmp+=' '\n",
    "    if count >=4 :\n",
    "            return tmp\n",
    "    else :return tmp\n",
    "           \n",
    "        "
   ]
  },
  {
   "cell_type": "code",
   "execution_count": 6,
   "metadata": {
    "scrolled": true
   },
   "outputs": [
    {
     "name": "stdout",
     "output_type": "stream",
     "text": [
      "[실행결과]\n",
      "The Jupyter Notebook is an open source web application \n",
      "allows you to create and share documents \n"
     ]
    }
   ],
   "source": [
    "file1 = readfile('d1')\n",
    "file2 = readfile('d2')\n",
    "list1 = split_delimiter(file1)\n",
    "list2 = split_delimiter(file2)\n",
    "print('[실행결과]')\n",
    "result=''\n",
    "cnt=1\n",
    "for sc1 in list1:\n",
    "    f1_sentence = changeblank(sc1)\n",
    "    words1= split_word(f1_sentence)\n",
    "    for sc2 in list2:\n",
    "        f2_sentence = changeblank(sc2)\n",
    "        words2= split_word(f2_sentence)\n",
    "        result=compare_word(words1,words2)\n",
    "        if result!='':\n",
    "            print(result)"
   ]
  },
  {
   "cell_type": "code",
   "execution_count": null,
   "metadata": {},
   "outputs": [],
   "source": []
  },
  {
   "cell_type": "code",
   "execution_count": null,
   "metadata": {},
   "outputs": [],
   "source": []
  }
 ],
 "metadata": {
  "kernelspec": {
   "display_name": "Python 3",
   "language": "python",
   "name": "python3"
  },
  "language_info": {
   "codemirror_mode": {
    "name": "ipython",
    "version": 3
   },
   "file_extension": ".py",
   "mimetype": "text/x-python",
   "name": "python",
   "nbconvert_exporter": "python",
   "pygments_lexer": "ipython3",
   "version": "3.7.4"
  }
 },
 "nbformat": 4,
 "nbformat_minor": 2
}
