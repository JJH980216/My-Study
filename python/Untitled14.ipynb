{
 "cells": [
  {
   "cell_type": "code",
   "execution_count": 65,
   "metadata": {},
   "outputs": [],
   "source": [
    "def age_split(file): \n",
    "    file=file[:,1:].astype(int)\n",
    "    family_count=1\n",
    "    family_age=20\n",
    "    print('         1인가구   2인가구   3인가구   4인가구   5인가구이상')\n",
    "    while family_age<61:\n",
    "        if family_age>=60:\n",
    "            age_data=file[file[:,1]>=family_age,:]\n",
    "            print('\\n',str(family_age)+'대이상',end='  ')\n",
    "        else:\n",
    "            print('\\n',str(family_age)+'대',end='      ')\n",
    "            age_data=file[(family_age<=file[:,1])&(file[:,1]<(family_age+10)),:]\n",
    "        while family_count<=5:            \n",
    "            fc_data=age_data[age_data[:,0]==family_count,2:]\n",
    "            if family_count==5: fc_data=age_data[age_data[:,0]>=family_count,2:]\n",
    "            fc_datamean=fc_data.mean(axis=0)\n",
    "            result=fc_datamean[0]-fc_datamean[1]\n",
    "            print(int(result),end='     ')\n",
    "            family_count+=1\n",
    "        family_count=1\n",
    "        family_age=family_age+10 "
   ]
  },
  {
   "cell_type": "code",
   "execution_count": 107,
   "metadata": {},
   "outputs": [],
   "source": [
    "#1. 수도권(G1)/비수도권(G2)의 가구원수 별 평균 순자산(자산-부채, 단위: 만원)표를 구하여라.\n",
    "def city_devide(ndarray,str):\n",
    "    family_count=1\n",
    "    sum=0\n",
    "    if str=='수도권': print('        1인가구  2인가구  3인가구  4인가구  5인가구이상')\n",
    "    print(str,end='')\n",
    "    while True:\n",
    "        b=ndarray[ndarray[:,0]==family_count,2:]\n",
    "        b=b.mean(axis=0)\n",
    "        result=b[0]-b[1]\n",
    "        print(' ',int(result),end='  ')\n",
    "        family_count+=1\n",
    "        if family_count ==5:\n",
    "            b=ndarray[ndarray[:,0]==family_count,2:]\n",
    "            b=b.mean(axis=0)\n",
    "            result=b[0]-b[1]\n",
    "            print(' ',int(result))\n",
    "            break"
   ]
  },
  {
   "cell_type": "code",
   "execution_count": 108,
   "metadata": {
    "scrolled": false
   },
   "outputs": [
    {
     "name": "stdout",
     "output_type": "stream",
     "text": [
      "        1인가구  2인가구  3인가구  4인가구  5인가구이상\n",
      "수도권  17490    44448    49660    53632    60608\n",
      "비수도권  10990    30802    32053    37865    37412\n",
      "\n",
      "\n",
      "\n",
      "         1인가구   2인가구   3인가구   4인가구   5인가구이상\n",
      "\n",
      " 20대      4754     11468     11950     7925     14551     \n",
      " 30대      8488     18861     24389     27594     27375     \n",
      " 40대      15865     21337     33170     40675     40685     \n",
      " 50대      11916     29254     43534     52297     52902     \n",
      " 60대이상  14221     40954     48716     60094     62211     "
     ]
    }
   ],
   "source": [
    "import numpy as np\n",
    "file = np.loadtxt(\"asset.csv\",delimiter=',',dtype=str)\n",
    "g1=file[file[:,0]=='G1',1:].astype(int)\n",
    "g2=file[file[:,0]=='G2',1:].astype(int)\n",
    "city_devide(g1,'수도권')\n",
    "city_devide(g2,'비수도권')\n",
    "print('\\n\\n')\n",
    "age_split(file)"
   ]
  },
  {
   "cell_type": "code",
   "execution_count": null,
   "metadata": {},
   "outputs": [],
   "source": []
  }
 ],
 "metadata": {
  "kernelspec": {
   "display_name": "Python 3",
   "language": "python",
   "name": "python3"
  },
  "language_info": {
   "codemirror_mode": {
    "name": "ipython",
    "version": 3
   },
   "file_extension": ".py",
   "mimetype": "text/x-python",
   "name": "python",
   "nbconvert_exporter": "python",
   "pygments_lexer": "ipython3",
   "version": "3.7.4"
  }
 },
 "nbformat": 4,
 "nbformat_minor": 2
}
